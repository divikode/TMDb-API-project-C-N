{
 "cells": [
  {
   "cell_type": "markdown",
   "id": "1013c038",
   "metadata": {},
   "source": [
    "# For this project, we are using the TMDb (The Movie Database) API.\n",
    "TMDb API enables you to find out the latest information about TV Shows, Movies and the biggest names in entertainment sector for a marvelous and fun TV/Movie watching experience."
   ]
  },
  {
   "cell_type": "markdown",
   "id": "29b38efe",
   "metadata": {},
   "source": [
    "# Our Motivation for using TMDb API\n",
    "By collecting the data using TMDb API one can recommend TV Shows, Movies and all sorts of entertainment on the basis of user’s affinity to specific genres, actors, likes and dislikes.\n",
    "We can find details about upcoming TV Shows and Movies.\n",
    "We can find what is the most popular and/ or exclusive/new content at a given time.\n",
    "\n",
    "Completed by Divyansh Singh"
   ]
  },
  {
   "cell_type": "markdown",
   "id": "e7fd12c5",
   "metadata": {},
   "source": [
    "### TMDb 1.1\n",
    "#Find the 'id' of the movie \"Andhadhun\" using TMDb API."
   ]
  },
  {
   "cell_type": "code",
   "execution_count": 1,
   "id": "9f12d7e7",
   "metadata": {},
   "outputs": [
    {
     "name": "stdout",
     "output_type": "stream",
     "text": [
      "534780\n"
     ]
    }
   ],
   "source": [
    "import requests\n",
    "import json\n",
    "api_key= \"d4675fc10d9f782a53c0bc11dd76c415\"\n",
    "\n",
    "url = \"https://api.themoviedb.org/3/movie/11?api_key=d4675fc10d9f782a53c0bc11dd76c415\"\n",
    "\n",
    "headers = {\"accept\": \"application/json\", }\n",
    "\n",
    "response = requests.get(url, headers=headers)\n",
    "for i in range(1,10):\n",
    "    res = requests.get('https://api.themoviedb.org/3/discover/movie',params={'api_key':api_key,'page':i,'region':'IN','year':2018}) \n",
    "    data=res.json()\n",
    "    for i in data['results']:\n",
    "        if 'Andhadhun' in i['title']:\n",
    "            print(i['id'])\n",
    "            break"
   ]
  },
  {
   "cell_type": "markdown",
   "id": "155f3662",
   "metadata": {},
   "source": [
    "### TMDb 1.2\n",
    "Fetch the company id company 'Marvel Studios' using TMDb. Print the id."
   ]
  },
  {
   "cell_type": "code",
   "execution_count": 2,
   "id": "3d17c761",
   "metadata": {},
   "outputs": [
    {
     "name": "stdout",
     "output_type": "stream",
     "text": [
      "216474\n"
     ]
    }
   ],
   "source": [
    "api_key = \"d4675fc10d9f782a53c0bc11dd76c415\"\n",
    "api_link = \"https://api.themoviedb.org/3\"\n",
    "params = {'query':\"Marvel Studios\", 'api_key':api_key}\n",
    "header = {'Accept': 'application/json'}\n",
    "response = requests.get(api_link + \"/search/company\", headers = header, params=params)\n",
    "data = response.json()\n",
    "results= data.get(\"results\")\n",
    "for result in results:\n",
    "    if result.get(\"name\")== \"Marvel Studios Animation\":\n",
    "        print(result.get(\"id\"))"
   ]
  },
  {
   "cell_type": "markdown",
   "id": "527a63ee",
   "metadata": {},
   "source": [
    "### TMDb 1.3\n",
    "Find the vote count and vote average of the movie \"3 Idiots\" using the TMDb API\n",
    "Output format: Vote Count , Vote Average"
   ]
  },
  {
   "cell_type": "code",
   "execution_count": 3,
   "id": "f679ea03",
   "metadata": {},
   "outputs": [
    {
     "name": "stdout",
     "output_type": "stream",
     "text": [
      "2202 7.993\n"
     ]
    }
   ],
   "source": [
    "api_key = \"d4675fc10d9f782a53c0bc11dd76c415\"\n",
    "api_link = \"https://api.themoviedb.org/3\"\n",
    "params = {'query':\"3 Idiots\", 'api_key':api_key}\n",
    "header = {'Accept': 'application/json'}\n",
    "response = requests.get(api_link + \"/search/movie\", headers = header, params=params)\n",
    "data = response.json()\n",
    "#print(data)\n",
    "results= data.get(\"results\")\n",
    "for result in results:\n",
    "    if result.get(\"original_title\")==\"3 Idiots\":\n",
    "        print(result.get(\"vote_count\"), result.get(\"vote_average\"))"
   ]
  },
  {
   "cell_type": "markdown",
   "id": "0a635352",
   "metadata": {},
   "source": [
    "### TMDb 1.4\n",
    "Fetch the names of top 5 similar movies to 'Inception' from the TMDb API."
   ]
  },
  {
   "cell_type": "code",
   "execution_count": 5,
   "id": "11355e9b",
   "metadata": {},
   "outputs": [
    {
     "name": "stdout",
     "output_type": "stream",
     "text": [
      "Strange Days\n",
      "Beverly Hills Cop III\n",
      "Faster, Pussycat! Kill! Kill!\n",
      "True Romance\n",
      "Snakes on a Plane\n"
     ]
    }
   ],
   "source": [
    "api_key = \"d4675fc10d9f782a53c0bc11dd76c415\"\n",
    "api_link = \"https://api.themoviedb.org/3\"\n",
    "params = {'query':\"Inception\", 'api_key':api_key}\n",
    "header = {'Accept': 'application/json'}\n",
    "response = requests.get(api_link + \"/movie/27205/similar\", headers = header, params=params)\n",
    "data = response.json()\n",
    "# print(data)\n",
    "results= data.get(\"results\")\n",
    "i=1\n",
    "for result in results:\n",
    "    if i<=5: \n",
    "        print(result.get('title'))\n",
    "        i+=1"
   ]
  },
  {
   "cell_type": "markdown",
   "id": "30b6f1fb",
   "metadata": {},
   "source": [
    "### TMDb 1.5\n",
    "Fetch the top rated english movies in the US region using the TMDb API. From the result, print the first 10 movies which have original language as english. Also print their genres.\n",
    "Note: Do not use the search/movies API for finding genres."
   ]
  },
  {
   "cell_type": "code",
   "execution_count": 6,
   "id": "f7893eb5",
   "metadata": {},
   "outputs": [
    {
     "name": "stdout",
     "output_type": "stream",
     "text": [
      "The Shawshank Redemption - Drama, Crime, \n",
      "The Godfather - Drama, Crime, \n",
      "The Godfather Part II - Drama, Crime, \n",
      "Schindler's List - Drama, History, War, \n",
      "12 Angry Men - Drama, \n",
      "The Dark Knight - Drama, Action, Crime, Thriller, \n",
      "The Green Mile - Fantasy, Drama, Crime, \n",
      "Pulp Fiction - Thriller, Crime, \n",
      "The Lord of the Rings: The Return of the King - Adventure, Fantasy, Action, \n",
      "Forrest Gump - Comedy, Drama, Romance, \n"
     ]
    }
   ],
   "source": [
    "api_key = \"d4675fc10d9f782a53c0bc11dd76c415\"\n",
    "api_link = \"https://api.themoviedb.org/3\"\n",
    "params = {'api_key':api_key}\n",
    "header = {'Accept': 'application/json'}\n",
    "response = requests.get(api_link + \"/genre/movie/list\", headers = header, params=params)\n",
    "data = response.json()\n",
    "genres={}\n",
    "#print(data)\n",
    "for i in data['genres']:\n",
    "    genres[i['id']]=i['name']\n",
    "res = requests.get('https://api.themoviedb.org/3/movie/top_rated',params={'api_key':api_key,'region':'US'}) \n",
    "data1=res.json()\n",
    "#data['results']\n",
    "count=0\n",
    "for i in data1['results']:\n",
    "    if i['original_language']=='en':\n",
    "        print(i['title'],end=' - ')\n",
    "        for j in i['genre_ids']:\n",
    "            print(genres[j],end=', ')\n",
    "        print()\n",
    "        count+=1\n",
    "    if count==10:\n",
    "        break"
   ]
  },
  {
   "cell_type": "markdown",
   "id": "06cbe3e7",
   "metadata": {},
   "source": [
    "### TMDb 2.1\n",
    "Find the name and birthplace of the present most popular person according to TMDb API."
   ]
  },
  {
   "cell_type": "code",
   "execution_count": 7,
   "id": "eba68f73",
   "metadata": {},
   "outputs": [
    {
     "name": "stdout",
     "output_type": "stream",
     "text": [
      "1548301\n",
      "Farrah Mackenzie - None\n"
     ]
    }
   ],
   "source": [
    "api_key = \"d4675fc10d9f782a53c0bc11dd76c415\"\n",
    "api_link = \"https://api.themoviedb.org/3\"\n",
    "params = {'api_key':api_key}\n",
    "header = {'Accept': 'application/json'}\n",
    "response = requests.get(api_link + \"/person/popular\", headers = header, params=params)\n",
    "data= response.json()\n",
    "data= data[\"results\"][0]\n",
    "print(data['id'])\n",
    "res= requests.get(api_link + \"/person/1548301\", headers= header, params=params)\n",
    "data1=res.json()\n",
    "print(data1['name'], '-',data1['place_of_birth'])"
   ]
  },
  {
   "cell_type": "markdown",
   "id": "8146af3d",
   "metadata": {},
   "source": [
    "### TMDb 2.2\n",
    "Fetch the Instagram and Twitter handle of Indian Actress \"Alia Bhatt\" from the TMDb API."
   ]
  },
  {
   "cell_type": "code",
   "execution_count": 8,
   "id": "8d6f6fdc",
   "metadata": {},
   "outputs": [
    {
     "name": "stdout",
     "output_type": "stream",
     "text": [
      "aliaabhatt Aliaa08\n"
     ]
    }
   ],
   "source": [
    "api_key = \"d4675fc10d9f782a53c0bc11dd76c415\"\n",
    "api_link = \"https://api.themoviedb.org/3\"\n",
    "params = {'query': 'Alia Bhatt','api_key':api_key}\n",
    "header = {'Accept': 'application/json'}\n",
    "response = requests.get(api_link + \"/search/person\", headers = header, params=params)\n",
    "data= response.json()\n",
    "ID=data['results'][0]['id']\n",
    "res = requests.get(f'https://api.themoviedb.org/3/person/{ID}/external_ids',params={'api_key':api_key}) \n",
    "data1=res.json()\n",
    "print(data1['instagram_id']+ ' '+ data1['twitter_id'])"
   ]
  },
  {
   "cell_type": "markdown",
   "id": "e62973a1",
   "metadata": {},
   "source": [
    "### TMDb 2.3\n",
    "Fetch the names of the character played by Tom Cruise in the movies:\n",
    "Top Gun\n",
    "Mission: Impossible - Fallout\n",
    "Minority Report\n",
    "Edge of Tomorrow"
   ]
  },
  {
   "cell_type": "code",
   "execution_count": 9,
   "id": "5029019a",
   "metadata": {},
   "outputs": [
    {
     "name": "stdout",
     "output_type": "stream",
     "text": [
      "Lt. Pete 'Maverick' Mitchell\n",
      "Ethan Hunt\n",
      "Chief John Anderton [Pre-Crime]\n",
      "Maj. William 'Bill' Cage\n"
     ]
    }
   ],
   "source": [
    "api_key = \"d4675fc10d9f782a53c0bc11dd76c415\"\n",
    "api_link = \"https://api.themoviedb.org/3\"\n",
    "params = {'query': 'Tom Cruise','api_key':api_key}\n",
    "header = {'Accept': 'application/json'}\n",
    "response = requests.get(api_link + \"/person/500/movie_credits\", headers = header, params=params)\n",
    "data= response.json()\n",
    "for i in data['cast']:\n",
    "    if i['title']=='Top Gun':\n",
    "        print(i['character'])\n",
    "        break\n",
    "for i in data['cast']:\n",
    "    if i['title']=='Mission: Impossible - Fallout': \n",
    "        print(i['character'])\n",
    "        break\n",
    "for i in data['cast']:\n",
    "    if i['title']=='Minority Report': \n",
    "        print(i['character'])\n",
    "        break\n",
    "for i in data['cast']:\n",
    "    if i['title']=='Edge of Tomorrow': \n",
    "        print(i['character'])\n",
    "        break"
   ]
  },
  {
   "cell_type": "markdown",
   "id": "330bdc62",
   "metadata": {},
   "source": [
    "### TMDb 2.4\n",
    "Did James McAvoy play a role in the movie Deadpool 2. Print Yes or No."
   ]
  },
  {
   "cell_type": "code",
   "execution_count": 10,
   "id": "84b5ddc5",
   "metadata": {},
   "outputs": [
    {
     "name": "stdout",
     "output_type": "stream",
     "text": [
      "Yes\n"
     ]
    }
   ],
   "source": [
    "api_key = \"d4675fc10d9f782a53c0bc11dd76c415\"\n",
    "api_link = \"https://api.themoviedb.org/3\"\n",
    "params = {'query': 'McAvoy','api_key':api_key}\n",
    "header = {'Accept': 'application/json'}\n",
    "response= requests.get(api_link+ \"/search/person\", params=params, headers=header)\n",
    "data=response.json()\n",
    "ID= data['results'][0]['id']\n",
    "res = requests.get(api_link+ f\"/person/{ID}/movie_credits\", params=params, headers=header)\n",
    "data1=res.json()\n",
    "data1\n",
    "for i in data1['cast']:\n",
    "    if \"Deadpool 2\" in i['title']:\n",
    "        print(\"Yes\")\n",
    "        break\n",
    "else:\n",
    "    print(\"No\")"
   ]
  },
  {
   "cell_type": "markdown",
   "id": "d4edb19c",
   "metadata": {},
   "source": [
    "### TMDb 2.5\n",
    "Using the result obtained in previous question, find out if James McAvoy was credited for his role in movie Deadpool 2. Print Yes or No."
   ]
  },
  {
   "cell_type": "code",
   "execution_count": 11,
   "id": "95f85241",
   "metadata": {},
   "outputs": [
    {
     "name": "stdout",
     "output_type": "stream",
     "text": [
      "No\n"
     ]
    }
   ],
   "source": [
    "api_key = \"d4675fc10d9f782a53c0bc11dd76c415\"\n",
    "api_link = \"https://api.themoviedb.org/3\"\n",
    "params = {'query':\"Deadpool 2\" , 'api_key':api_key}\n",
    "header = {'Accept': 'application/json'}\n",
    "response = requests.get(api_link + \"/search/movie\", headers = header, params = params)\n",
    "data = response.json()\n",
    "results = data.get('results')\n",
    "for result in results:\n",
    "    if result.get('original_title') == 'Deadpool 2':\n",
    "        id = result.get('id')\n",
    "params2 = {'api_key':api_key}\n",
    "response2 = requests.get(api_link + \"/movie/\" + str(id) + \"/credits\" , headers = header, params = params2)\n",
    "data2 = response2.json()\n",
    "cast_array = data2.get('cast')\n",
    "for cast in cast_array:\n",
    "    if cast.get('name') == 'James McAvoy':\n",
    "        james_info = cast\n",
    "        break\n",
    "if 'uncredited' in james_info.get('character'):\n",
    "    print(\"No\")\n",
    "else:\n",
    "    print(\"Yes\")"
   ]
  },
  {
   "cell_type": "markdown",
   "id": "5ed8f604",
   "metadata": {},
   "source": [
    "### TMDb 3.1\n",
    "Fetch the overview of the TV Show \"FRIENDS\" using TMDb API.\n",
    "Output Format:\n",
    "Print the Overview."
   ]
  },
  {
   "cell_type": "code",
   "execution_count": 12,
   "id": "11f81c98",
   "metadata": {},
   "outputs": [
    {
     "name": "stdout",
     "output_type": "stream",
     "text": [
      "Six young people from New York City, on their own and struggling to survive in the real world, find the companionship, comfort and support they get from each other to be the perfect antidote to the pressures of life.\n",
      "Friends is a short-lived kids-oriented drama that aired in the spring of 1979. The series, which was produced by Aaron Spelling and aired on ABC, starred Charlie Aiken, Jill Whelan, and Jarrod Johnson as three Southern Californian 11-year-olds. Karen Morrow also appeared. Only five one-hour episodes were produced before the series was cancelled.\n",
      "\n"
     ]
    }
   ],
   "source": [
    "api_key = \"d4675fc10d9f782a53c0bc11dd76c415\"\n",
    "api_link = \"https://api.themoviedb.org/3\"\n",
    "params = {'query':\"Friends\" , 'api_key':api_key}\n",
    "header = {'Accept': 'application/json'}\n",
    "response = requests.get(api_link + \"/search/tv\", headers = header, params = params)\n",
    "data = response.json()\n",
    "data=data['results']\n",
    "for i in data:\n",
    "    if i['original_name']=='Friends':\n",
    "        print(i[\"overview\"])"
   ]
  },
  {
   "cell_type": "markdown",
   "id": "bc96f982",
   "metadata": {},
   "source": [
    "### TMdb 3.2\n",
    "Fetch the name and air date of S06E05 of the TV Show 'The Big Bang Theory' from TMDb API."
   ]
  },
  {
   "cell_type": "code",
   "execution_count": 13,
   "id": "343478a1",
   "metadata": {},
   "outputs": [
    {
     "name": "stdout",
     "output_type": "stream",
     "text": [
      "The Holographic Excitation - 2012-10-25\n"
     ]
    }
   ],
   "source": [
    "api_key = \"d4675fc10d9f782a53c0bc11dd76c415\"\n",
    "api_link = \"https://api.themoviedb.org/3\"\n",
    "params = {'api_key':api_key,'query':'The Big Bang Theory'}\n",
    "header = {'Accept': 'application/json'}\n",
    "response2 = requests.get(api_link + \"/tv/\"+str(1418)+\"/season/\"+str(6)+\"/episode/\"+str(5), headers = header, params=params)\n",
    "data=response2.json()\n",
    "print(data['name'],\"-\",data['air_date'])"
   ]
  },
  {
   "cell_type": "markdown",
   "id": "b419d08c",
   "metadata": {},
   "source": [
    "### TMDb 3.3\n",
    "Fetch the trending TV Shows for the week from the TMDb API and print the taglines of the top 5 shows. If there is no tagline, print 'Empty' instead\n",
    "Output Format:\n",
    "Print the taglines in new line."
   ]
  },
  {
   "cell_type": "code",
   "execution_count": 14,
   "id": "4318dc1d",
   "metadata": {},
   "outputs": [
    {
     "name": "stdout",
     "output_type": "stream",
     "text": [
      "One question changes everything.\n",
      "Empty\n",
      "Space. For all.\n",
      "The gods are waiting.\n",
      "Reacher's back.\n"
     ]
    }
   ],
   "source": [
    "api_key = \"d4675fc10d9f782a53c0bc11dd76c415\" \n",
    "api_link = \"https://api.themoviedb.org/3\" \n",
    "params = {'api_key':api_key} \n",
    "header = {'Accept': 'application/json'} \n",
    "response = requests.get(api_link + \"/trending/tv/week\", headers = header, params = params) \n",
    "data = response.json() \n",
    "results = data.get(\"results\") \n",
    "ids=[] \n",
    "for result in results[:5]: \n",
    "    ids.append(result.get(\"id\")) \n",
    "    \n",
    "for id in ids: \n",
    "    response2 = requests.get(api_link + \"/tv/\" + str(id) , headers = header, params = params) \n",
    "    data2 = response2.json() \n",
    "    if (data2.get(\"tagline\")) != \"\": \n",
    "        print(data2.get(\"tagline\")) \n",
    "    else: \n",
    "        print('Empty')"
   ]
  },
  {
   "cell_type": "markdown",
   "id": "95cec5df",
   "metadata": {},
   "source": [
    "### TMDb 3.4\n",
    "Print the names of all the TV shows to be aired today whose original language is english.\n",
    "Output Format:\n",
    "Print the name of each TV show in a new line."
   ]
  },
  {
   "cell_type": "code",
   "execution_count": 15,
   "id": "290bed8c",
   "metadata": {},
   "outputs": [
    {
     "name": "stdout",
     "output_type": "stream",
     "text": [
      "What If...?\n",
      "Would I Lie to You?\n",
      "EastEnders\n",
      "Emmerdale\n",
      "PBS NewsHour\n",
      "WWE SmackDown\n",
      "Hollyoaks\n",
      "Gold Rush\n",
      "Power Book III: Raising Kanan\n",
      "Coronation Street\n",
      "Days of Our Lives\n",
      "CBS Evening News with Norah O'Donnell\n",
      "General Hospital\n",
      "Naked News\n",
      "Ridiculousness\n",
      "Washington Week with The Atlantic\n",
      "Work It Out Wombats!\n",
      "NCIS: Sydney\n",
      "All Elite Wrestling: Rampage\n",
      "University Challenge\n",
      "Love After Lockup\n",
      "Mortimer & Whitehouse: Gone Fishing\n",
      "Two Doors Down\n",
      "Two Doors Down\n",
      "MotorWeek\n",
      "Pitch Meeting\n",
      "Pitch Meeting\n",
      "Off the Record\n",
      "Gamers Mangkuk\n",
      "The Real Housewives of Lagos\n",
      "Black Rider\n",
      "Can't Go Home\n",
      "Craft in America\n",
      "The Toy Hospital\n",
      "Live at The Queer Comedy Club\n",
      "Unexplained: Caught On Camera\n",
      "The World According to Football\n",
      "Zero Waste Life\n",
      "The World's Strongest Man\n",
      "Xian Xia Shi Jie\n",
      "Richard Osman's House of Games\n",
      "Very Important People\n"
     ]
    }
   ],
   "source": [
    "api_key = \"d4675fc10d9f782a53c0bc11dd76c415\"\n",
    "api_link = \"https://api.themoviedb.org/3\"\n",
    "params = {'query':\"Friends\" , 'api_key':api_key}\n",
    "header = {'Accept': 'application/json'}\n",
    "res = requests.get('https://api.themoviedb.org/3/tv/airing_today',params=params, headers=header) \n",
    "data=res.json()\n",
    "total_pages=data['total_pages']\n",
    "\n",
    "for j in range(1,total_pages+1):\n",
    "    res = requests.get('https://api.themoviedb.org/3/tv/airing_today',params={'api_key':api_key,'page':j}) \n",
    "    data=res.json()\n",
    "    for i in data['results']:\n",
    "        if i['original_language']=='en':\n",
    "            print(i['name'])"
   ]
  },
  {
   "cell_type": "markdown",
   "id": "883cf077",
   "metadata": {},
   "source": [
    "### TMDb 3.5\n",
    "Count the number of males and females in the cast of \"Money Heist\" using the TMDb API.\n",
    "Output Format:\n",
    "Print the count of male and female space separated.\n",
    "male_count female_count"
   ]
  },
  {
   "cell_type": "code",
   "execution_count": 17,
   "id": "cce48b1f",
   "metadata": {},
   "outputs": [
    {
     "name": "stdout",
     "output_type": "stream",
     "text": [
      "10 5\n"
     ]
    }
   ],
   "source": [
    "res = requests.get('https://api.themoviedb.org/3/search/tv',params={'api_key':api_key,'query':'Money Heist'}) \n",
    "data=res.json()\n",
    "for i in data['results']:\n",
    "    if i['name']=='Money Heist':\n",
    "        ID = i['id']\n",
    "res = requests.get(F'https://api.themoviedb.org/3/tv/{ID}/credits',params={'api_key':api_key}) \n",
    "data=res.json()\n",
    "Female=0\n",
    "Male=0\n",
    "for  i in data['cast']:\n",
    "    if i['gender']==2:\n",
    "        Male+=1\n",
    "    elif i['gender']==1:\n",
    "        Female+=1\n",
    "        \n",
    "print(Male,Female)"
   ]
  }
 ],
 "metadata": {
  "kernelspec": {
   "display_name": "Python 3 (ipykernel)",
   "language": "python",
   "name": "python3"
  },
  "language_info": {
   "codemirror_mode": {
    "name": "ipython",
    "version": 3
   },
   "file_extension": ".py",
   "mimetype": "text/x-python",
   "name": "python",
   "nbconvert_exporter": "python",
   "pygments_lexer": "ipython3",
   "version": "3.11.4"
  }
 },
 "nbformat": 4,
 "nbformat_minor": 5
}
